{
 "cells": [
  {
   "cell_type": "markdown",
   "id": "02855e67",
   "metadata": {},
   "source": [
    "# 🤖 Notebook: Machine Learning Modeling\n",
    "\n",
    "This notebook trains machine learning models to predict ride demand for Capital Bikeshare stations.\n",
    "\n",
    "## ✅ Goals:\n",
    "- Load processed dataset with distance-based features\n",
    "- Define target and features\n",
    "- Train/test split\n",
    "- Train machine learning models\n",
    "- Evaluate model performance\n",
    "- Analyze feature importance\n"
   ]
  },
  {
   "cell_type": "code",
   "execution_count": 2,
   "id": "e7aa8b0f",
   "metadata": {},
   "outputs": [],
   "source": [
    "from sklearn.neighbors import NearestNeighbors\n",
    "from sklearn.neighbors import BallTree\n",
    "from scipy.spatial import cKDTree\n",
    "\n",
    "# 📦 Standard Library\n",
    "import sys\n",
    "from pathlib import Path\n",
    "import json\n",
    "from collections import Counter\n",
    "\n",
    "# 📊 Data Analysis & Visualization\n",
    "import pandas as pd\n",
    "import numpy as np\n",
    "import matplotlib.pyplot as plt\n",
    "import seaborn as sns\n",
    "\n",
    "# 🌍 Geospatial Libraries\n",
    "import geopandas as gpd\n",
    "import geopy\n",
    "from shapely.geometry import Point, shape\n",
    "from shapely.ops import nearest_points\n",
    "from shapely.wkt import loads \n",
    "from geopy import distance\n",
    "\n",
    "# 🗺️ Folium Mapping\n",
    "import folium\n",
    "\n",
    "# 🛠️ Project-Specific Modules\n",
    "sys.path.append(str(Path().resolve().parent / \"src\"))\n",
    "\n",
    "from paths import  INTERIM_DIR, PROCESSED_DIR\n",
    "# from helpers_folium import load_geojson_as_gdf, load_bikeshare_data, create_centered_map"
   ]
  },
  {
   "cell_type": "markdown",
   "id": "8c1a9623",
   "metadata": {},
   "source": [
    "## Prepare the data"
   ]
  },
  {
   "cell_type": "code",
   "execution_count": 3,
   "id": "637abebe",
   "metadata": {},
   "outputs": [],
   "source": [
    "prince_george_df = pd.read_parquet(PROCESSED_DIR / \"prince_george.parquet\")"
   ]
  }
 ],
 "metadata": {
  "kernelspec": {
   "display_name": "codeacademy",
   "language": "python",
   "name": "python3"
  },
  "language_info": {
   "codemirror_mode": {
    "name": "ipython",
    "version": 3
   },
   "file_extension": ".py",
   "mimetype": "text/x-python",
   "name": "python",
   "nbconvert_exporter": "python",
   "pygments_lexer": "ipython3",
   "version": "3.12.7"
  }
 },
 "nbformat": 4,
 "nbformat_minor": 5
}
